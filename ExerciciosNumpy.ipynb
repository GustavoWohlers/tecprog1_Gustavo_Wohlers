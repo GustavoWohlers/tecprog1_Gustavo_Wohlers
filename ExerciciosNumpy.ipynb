{
  "cells": [
    {
      "cell_type": "markdown",
      "metadata": {
        "colab_type": "text",
        "id": "view-in-github"
      },
      "source": [
        "<a href=\"https://colab.research.google.com/github/robertosgpontes/tec_prog_1/blob/main/ExerciciosNumpy.ipynb\" target=\"_parent\"><img src=\"https://colab.research.google.com/assets/colab-badge.svg\" alt=\"Open In Colab\"/></a>"
      ]
    },
    {
      "cell_type": "markdown",
      "metadata": {
        "id": "dDhJSUbSE6hI"
      },
      "source": [
        "# Lista de Exercícios de Numpy\n",
        "\n",
        "Deverá ser entrege até **11/02/2023** por meio do github que foi informado por vocês no [formulário](https://forms.office.com/r/YV12vEXGYF) respondido na aula de 01/02.\n",
        "\n",
        "A entrega pela github é parte da avaliação."
      ]
    },
    {
      "cell_type": "markdown",
      "metadata": {
        "id": "eX5x6-bjE6hN"
      },
      "source": [
        "## Questão 1\n",
        "\n",
        "Crie um array 100 com valores aleatórios e ache os valores máximo e mínimo"
      ]
    },
    {
      "cell_type": "code",
      "execution_count": 2,
      "metadata": {
        "id": "kYKS_ae1E6hP"
      },
      "outputs": [
        {
          "name": "stdout",
          "output_type": "stream",
          "text": [
            "Máximo:975, Mínimo: 13\n"
          ]
        }
      ],
      "source": [
        "import numpy as np\n",
        "vetor = np.random.randint(0, 1000, 100)\n",
        "print(f'Máximo:{max(vetor)}, Mínimo: {min(vetor)}')\n"
      ]
    },
    {
      "cell_type": "markdown",
      "metadata": {
        "id": "qT9pSHp4E6hQ"
      },
      "source": [
        "## Questão 2\n",
        "Em Geometria Analítica, um **vetor** é uma quantidade que pode ser definida por um énuplo (uma sequência ordenada de *n* elementos) em que cada elemento representa a intensidade do vetor na direção especificada pela i-ésima componente desta sequência. \n",
        "\n",
        "Quando pensamos em duas dimensões, por exemplo, o vetor $R = (b,a)$ define, geometricamente, a entidade representada na figura abaixo, com componentes nos eixos x e y usuais.\n",
        "\n",
        "<img src = \"https://static.todamateria.com.br/upload/im/ag/image-721.jpg?auto_optimize=low\" />\n",
        "\n",
        "O **módulo** deste vetor, também chamado de intensidade, está geometricamente relacionado ao seu comprimento, e pode ser calculado diretamente pelas suas componentes, por meio de uma operação conhecida como **produto escalar** do vetor com ele mesmo. O módulo quadrático é expresso, desta forma, por:\n",
        "\n",
        "$|A|^2 = \\vec{A} \\cdot \\vec{A}$\n",
        "\n",
        "Por outro lado, o produto escalar entre dois vetores $A = (a_{x}, a_{y})$ e $B = (b_{x}, b_{y})$ é dado por:\n",
        "\n",
        "$\\vec{A} \\cdot \\vec{B} = a_{x} \\times b_{x} + a_{y} \\times b_{y}$ (e esta definição vale para qualquer que seja a dimensão do vetor).\n",
        "\n",
        "O módulo quadrático de um vetor é, portanto:\n",
        "\n",
        "$|A|² = a_{x}^2 + b_{x}^2$."
      ]
    },
    {
      "cell_type": "markdown",
      "metadata": {
        "id": "-ZU6W86sE6hT"
      },
      "source": [
        "Dado o exposto acima, escreva uma função que retorne o módulo de um vetor n-dimensional qualquer."
      ]
    },
    {
      "cell_type": "code",
      "execution_count": 17,
      "metadata": {
        "id": "PdKKKvShE6hT"
      },
      "outputs": [
        {
          "data": {
            "text/plain": [
              "50"
            ]
          },
          "execution_count": 17,
          "metadata": {},
          "output_type": "execute_result"
        }
      ],
      "source": [
        "# def modulo(*x):\n",
        "#     #vetor = list(x)\n",
        "#     mod = 0\n",
        "#     for i in range(len(x)):\n",
        "#         mod += x[i]**2\n",
        "    \n",
        "#     return mod\n",
        "\n",
        "import numpy as np\n",
        "def modulo2(x):\n",
        "    resultado = np.sum(x**2)\n",
        "    \n",
        "    return resultado\n",
        "\n",
        "modulo2(np.array([5, 5]))"
      ]
    },
    {
      "cell_type": "markdown",
      "metadata": {
        "id": "CRZdfzLgE6hU"
      },
      "source": [
        "## Questão 3\n",
        "\n",
        "Em uma **análise de regressão**, usualmente estamos interessados em descrever relações entre variáveis de um dado conjunto de dados por meio de uma **função** que descreva, o tanto quanto possível, estas relações.\n",
        "\n",
        "Por exemplo, no gráfico abaixo, os pontos vermelhos relacionam as medidas das duas variáveis sendo avaliadas (nos eixos x e y); e a linha azul aproxima a relação entre elas por uma função linear."
      ]
    },
    {
      "cell_type": "markdown",
      "metadata": {
        "id": "180Vp7AZE6hV"
      },
      "source": [
        "![Normdist_regression.png](https://miro.medium.com/v2/resize:fit:786/format:webp/1*LEmBCYAttxS6uI6rEyPLMQ.png)"
      ]
    },
    {
      "cell_type": "markdown",
      "metadata": {
        "id": "oQ1RFXOAE6hV"
      },
      "source": [
        "É possível ver que nem todos os pontos obedecem exatamente à relação ditada pela reta (isto é, há pontos que não estão exatamente \"sobre a reta\"; mas, sim, ligeraimente acima, ou abaixo, dela). Isto, contudo, é esperado em um modelo de regressão, por inúmeras fontes de incerteza associadas às medições."
      ]
    },
    {
      "cell_type": "markdown",
      "metadata": {
        "id": "XGWoc_O2E6hW"
      },
      "source": [
        "Uma das métricas que utilizamos para avaliar a qualidade de uma regressão é o **erro quadrático médio (EQM)**, que mensura a diferença total entre cada predição da regressão ($y_{prediction}$; que no nosso caso seriam os valores de y para a reta azul) com o valor real de cada i-ésima medida ($y_{i}$; que no nosso caso seriam as coordenadas y para cada ponto vermelho do gráfico). O EQM pode ser definido como:"
      ]
    },
    {
      "cell_type": "markdown",
      "metadata": {
        "id": "CjgOdTD6E6hX"
      },
      "source": [
        "$EQM = \\frac{1}{n}\\sum_{i=1}^{n}(y_{prediction} - y_{i})^2$."
      ]
    },
    {
      "cell_type": "markdown",
      "metadata": {
        "id": "qeXCrbmbE6hY"
      },
      "source": [
        "Isto posto, escreva uma função que calcule o EQM recebendo, como entrada, os vetores $y_{prediction}$ e $y_{i}$. Por exemplo, digamos que sua função se chame *calculate_eqm*, ela deve operar da seguinte forma:"
      ]
    },
    {
      "cell_type": "code",
      "execution_count": null,
      "metadata": {
        "id": "mW1BDfUcE6hZ",
        "outputId": "34904ed4-681a-48d8-b688-901804f84492"
      },
      "outputs": [
        {
          "data": {
            "text/plain": [
              "1.6666666666666665"
            ]
          },
          "metadata": {},
          "output_type": "display_data"
        }
      ],
      "source": [
        "# dados dois arrays quaisquer de mesmo tamanho, a função deve retornar o EQM\n",
        "y_prediction = np.array([1,2,3])\n",
        "y_i = np.array([0,0,3])\n",
        "calculate_eqm(y_prediction,y_i)"
      ]
    },
    {
      "cell_type": "code",
      "execution_count": 9,
      "metadata": {
        "id": "bwiTGuuoE6hb"
      },
      "outputs": [
        {
          "data": {
            "text/plain": [
              "1.6666666666666667"
            ]
          },
          "execution_count": 9,
          "metadata": {},
          "output_type": "execute_result"
        }
      ],
      "source": [
        "# Solução\n",
        "def calculate_eqm(x,y):\n",
        "    eqm = 0\n",
        "    for i in range(len(x)):\n",
        "        eqm += (x[i] - y[i])**2\n",
        "    eqm = eqm/len(x)\n",
        "    return eqm\n",
        "\n",
        "y_prediction = np.array([1,2,3])\n",
        "y_i = np.array([0,0,3])\n",
        "calculate_eqm(y_prediction,y_i)"
      ]
    },
    {
      "cell_type": "markdown",
      "metadata": {
        "id": "Wh0_a8PjE6hc"
      },
      "source": [
        "## Questão 4\n",
        "\n",
        "Crie um array 2D (bidimensional) com 1 na borda e 0 dentro"
      ]
    },
    {
      "cell_type": "code",
      "execution_count": 18,
      "metadata": {},
      "outputs": [
        {
          "name": "stdout",
          "output_type": "stream",
          "text": [
            "[[1 1 1 1 1]\n",
            " [1 0 0 0 1]\n",
            " [1 0 0 0 1]\n",
            " [1 0 0 0 1]\n",
            " [1 1 1 1 1]]\n"
          ]
        }
      ],
      "source": [
        "import numpy as np\n",
        "\n",
        "def borda_0(n):\n",
        "    arr = np.zeros((n,n), dtype=int)\n",
        "    arr[0, :] = 1\n",
        "    arr[n-1, :] = 1\n",
        "    arr[:, 0] = 1\n",
        "    arr[:, n-1] = 1\n",
        "    return arr\n",
        "\n",
        "n = 5\n",
        "result = borda_0(n)\n",
        "print(result)\n"
      ]
    },
    {
      "cell_type": "markdown",
      "metadata": {
        "id": "U1CntgkZE6hc"
      },
      "source": [
        "## Questão 5\n",
        "\n",
        "Como adicionar uma borda de 0's ao redor de um array 2D (bidimensional) existente"
      ]
    },
    {
      "cell_type": "code",
      "execution_count": 31,
      "metadata": {},
      "outputs": [
        {
          "data": {
            "text/plain": [
              "array([[0, 0, 0, 0, 0],\n",
              "       [0, 1, 2, 3, 0],\n",
              "       [0, 4, 5, 6, 0],\n",
              "       [0, 7, 8, 9, 0],\n",
              "       [0, 0, 0, 0, 0]])"
            ]
          },
          "execution_count": 31,
          "metadata": {},
          "output_type": "execute_result"
        }
      ],
      "source": [
        "import numpy as np\n",
        "\n",
        "\n",
        "arr = np.array([[1, 2, 3], [4, 5, 6], [7, 8, 9]])\n",
        "np.pad(arr, 1, mode='constant', constant_values=0)"
      ]
    },
    {
      "cell_type": "markdown",
      "metadata": {
        "id": "qHh149eAE6hd"
      },
      "source": [
        "## Questão 6\n",
        "\n",
        " A eletroencefalografia (EEG) é uma técnica que mensura potenciais elétricos cerebrais em diversas regiões do escalpo do paciente. Suponha que você recebeu um conjunto de dados na forma de uma matriz de 64 x 512 elementos, em que cada linha contém o sinal gravado em um dos **eletrodos** espalhados pelo escalpo em um exame de EEG, e cada coluna contém um valor de potencial elétrico, em microvolts. "
      ]
    },
    {
      "cell_type": "markdown",
      "metadata": {
        "id": "BRDY8u09E6hd"
      },
      "source": [
        "Como o sinal de EEG é muito suscetível a ruídos externos (interferências na qualidade do sinal), uma operação comum para atenuar a interferência no sinal consiste em tirar a média do potencial elétrico de todos os eletrodos, e subtrair este valor de cada um deles. Isto atenua fontes de ruído ao sinal comuns a todos os eletrodos. Em termos matemáticos, o sinal processado por esta operação, $X_{e,i}$ para cada eletrodo (e) e amostra (i), é dado por:"
      ]
    },
    {
      "cell_type": "markdown",
      "metadata": {
        "id": "NHLeT5deE6he"
      },
      "source": [
        "$X_{e,i} = \\hat{X_{e,i}} - \\frac{1}{N}\\sum_{e=1}^{N}\\hat{X_{e,i}}$,\n",
        "\n",
        "em que $\\hat{X_{e,i}}$ representa o sinal original (ou seja, é a matriz de entrada de 64 x 512 elementos), e $N$ indica o total de eletrodos."
      ]
    },
    {
      "cell_type": "markdown",
      "metadata": {
        "id": "ToiE-omdE6he"
      },
      "source": [
        "Com o exposto acima, escreva uma função que retorne uma matriz com os sinais de EEG processados conforme a operação mencionada. Sua função deve operar conforme o exemplo abaixo."
      ]
    },
    {
      "cell_type": "code",
      "execution_count": null,
      "metadata": {
        "id": "EgsEH6T-E6hf",
        "outputId": "7388c8ad-a5f8-4097-b1db-e2e1e4aad9b0"
      },
      "outputs": [
        {
          "data": {
            "text/plain": [
              "(64, 512)"
            ]
          },
          "metadata": {},
          "output_type": "display_data"
        }
      ],
      "source": [
        "# vamos supor uma matriz de entrada gerada por dados aleatórios\n",
        "X = np.random.randn(64,512)\n",
        "X.shape # apenas para verificar as dimensões"
      ]
    },
    {
      "cell_type": "code",
      "execution_count": null,
      "metadata": {
        "id": "gXsgtYEJE6hg",
        "outputId": "7d179469-09c8-4d0d-d8b7-a9cde1f813fb"
      },
      "outputs": [
        {
          "data": {
            "text/plain": [
              "(64, 512)"
            ]
          },
          "metadata": {},
          "output_type": "display_data"
        }
      ],
      "source": [
        "# a função deve executar a operação equacionada anteriormente, retornando uma nova matriz\n",
        "X_processado = process_EEG_signal(X)\n",
        "X_processado.shape"
      ]
    },
    {
      "cell_type": "code",
      "execution_count": null,
      "metadata": {
        "id": "mR_U9LEbE6hh",
        "outputId": "ef4a479a-23fa-4e1e-9e50-97afaa3596ca"
      },
      "outputs": [
        {
          "data": {
            "text/plain": [
              "-53.08727366483029"
            ]
          },
          "metadata": {},
          "output_type": "display_data"
        }
      ],
      "source": [
        "# Somando as diferenças entre cada elemento das duas matrizes, apenas para ilustrar que elas não são iguais\n",
        "(X_processado - X).sum()"
      ]
    },
    {
      "cell_type": "code",
      "execution_count": null,
      "metadata": {
        "id": "HkoRtLugE6hh",
        "outputId": "ee8fe812-1c8c-43e5-d04a-40b0e370b85a"
      },
      "outputs": [
        {
          "data": {
            "text/plain": [
              "array([[ 0.29305925,  0.89663038, -0.61032202, ..., -0.88086364,\n",
              "        -0.8818789 ,  0.51260497],\n",
              "       [-0.01274415,  1.05439522,  0.47958092, ..., -2.15387924,\n",
              "         0.70721168,  0.97029889],\n",
              "       [ 1.09478371, -0.16120847,  1.58400361, ...,  0.20981813,\n",
              "         2.17373837,  0.94032162],\n",
              "       ...,\n",
              "       [-0.45294842, -2.28939505,  1.10111998, ...,  1.63581703,\n",
              "        -0.39394924, -1.13400723],\n",
              "       [-0.22669886,  0.25413429, -1.17870637, ..., -0.09509442,\n",
              "         0.90733806,  0.37999411],\n",
              "       [ 0.15476933, -0.03654717, -1.09982762, ...,  0.67600047,\n",
              "        -0.84533328, -0.56433144]])"
            ]
          },
          "metadata": {},
          "output_type": "display_data"
        }
      ],
      "source": [
        "# Visualizando as matrizes, para verificar uma vez mais que, de fato, os elementos são diferentes\n",
        "X"
      ]
    },
    {
      "cell_type": "code",
      "execution_count": null,
      "metadata": {
        "id": "kGdBX0J-E6hi",
        "outputId": "59655945-932b-4a3b-b4d1-bcc87f9ecdca"
      },
      "outputs": [
        {
          "data": {
            "text/plain": [
              "array([[ 0.36713022,  0.85772513, -0.54902169, ..., -0.85626087,\n",
              "        -0.97611435,  0.51718998],\n",
              "       [ 0.06132682,  1.01548997,  0.54088126, ..., -2.12927647,\n",
              "         0.61297623,  0.97488389],\n",
              "       [ 1.16885469, -0.20011372,  1.64530394, ...,  0.23442091,\n",
              "         2.07950292,  0.94490663],\n",
              "       ...,\n",
              "       [-0.37887744, -2.3283003 ,  1.16242031, ...,  1.6604198 ,\n",
              "        -0.4881847 , -1.12942223],\n",
              "       [-0.15262788,  0.21522904, -1.11740604, ..., -0.07049164,\n",
              "         0.81310261,  0.38457911],\n",
              "       [ 0.22884031, -0.07545242, -1.03852729, ...,  0.70060324,\n",
              "        -0.93956874, -0.55974643]])"
            ]
          },
          "metadata": {},
          "output_type": "display_data"
        }
      ],
      "source": [
        "# Matriz após o processamento descrito no enunciado\n",
        "X_processado"
      ]
    },
    {
      "cell_type": "code",
      "execution_count": 5,
      "metadata": {
        "id": "OlxjvCnQE6hj"
      },
      "outputs": [
        {
          "data": {
            "text/plain": [
              "-1.3438338098653282"
            ]
          },
          "execution_count": 5,
          "metadata": {},
          "output_type": "execute_result"
        }
      ],
      "source": [
        "# Solução\n",
        "import numpy as np\n",
        "Xzin = np.random.randn(64,512)\n",
        "\n",
        "\n",
        "def process_eeg_signal(eeg_signal):\n",
        "    N = len(eeg_signal)\n",
        "    Xe = eeg_signal * (1/N)\n",
        "    Xee = eeg_signal - Xe\n",
        "    #for i in range(N):\n",
        "     #   for j in range(len(eeg_signal[1])):\n",
        "      #      Xee[i][j] = (1/N) * Xee[i][j]\n",
        "    return Xee\n",
        "\n",
        "Sinal = process_eeg_signal(Xzin)\n",
        "(Sinal - Xzin).sum()\n"
      ]
    },
    {
      "cell_type": "markdown",
      "metadata": {
        "id": "7Gy6nTwQE6hj"
      },
      "source": [
        "## Questão 7\n",
        "\n",
        "Em estatística, um **outlier** é um valor que destoa consideravelmente da distribuição à qual está associado. Um dos critérios para idenficar outliers consiste em encontrar a **distância interquantil** (IQR), ou seja, a diferença entre o terceiro (Q3) e o primeiro quartis (Q1) da distribuição, e tomar como outliers todos os pontos abaixo de 1.5*IQR - Q1, ou acima de 1.5*IQR + Q3."
      ]
    },
    {
      "cell_type": "markdown",
      "metadata": {
        "id": "CP-NkMHTE6hk"
      },
      "source": [
        "<img src = \"https://blog.curso-r.com/images/posts/banner/outlier.webp\" />"
      ]
    },
    {
      "cell_type": "markdown",
      "metadata": {
        "id": "BLDJN5JPE6hk"
      },
      "source": [
        "Escreva uma função que, dada uma matriz de dados de entrada de dimensões $N_{observações} \\times N_{features}$ retorne três requisitos: \n",
        "- uma matriz booleana indicando a existência de outliers nos dados de entrada;\n",
        "- a quantidade de outliers\n",
        "- quem são os outliers (os valores)."
      ]
    },
    {
      "cell_type": "markdown",
      "metadata": {
        "id": "wwVcP2uZE6hl"
      },
      "source": [
        "**Algumas definições:**\n",
        "- um *quantil* divide a distribuição, após ordenados os pontos, segundo algum ponto de corte;\n",
        "- o **primeiro quartil** é o ponto para o qual 25 % dos valores da distribuição estão abaixo dele;\n",
        "- o **terceiro quartil** é o ponto para o qual 75 % dos valores da distribuição estão abaixo dele.\n",
        "\n",
        "Pode ser útil consultar a função **numpy.quantile**."
      ]
    },
    {
      "cell_type": "markdown",
      "metadata": {
        "id": "C9nCKXhjE6hm"
      },
      "source": [
        "Exemplo de operação da função:"
      ]
    },
    {
      "cell_type": "code",
      "execution_count": 119,
      "metadata": {
        "id": "wHdcs77RE6hm",
        "outputId": "28783112-67ef-4d51-9f83-ea939812a3d7"
      },
      "outputs": [
        {
          "data": {
            "text/plain": [
              "array([[ 0.72571563,  0.81702587, -0.6484116 , ..., -0.89313989,\n",
              "        -1.01809252,  0.27858618],\n",
              "       [-0.37251652, -0.67494245, -0.26863366, ..., -0.74820235,\n",
              "        -0.18657976,  0.02707273],\n",
              "       [ 0.56088444,  1.23570026, -0.63029902, ..., -0.31440872,\n",
              "         0.19980021,  0.93712112],\n",
              "       ...,\n",
              "       [-1.1196358 , -0.96531029,  0.293035  , ...,  0.2271847 ,\n",
              "        -0.34811191,  0.065243  ],\n",
              "       [ 0.7694583 ,  0.88185416, -0.78702852, ..., -0.06232708,\n",
              "        -0.8483832 ,  2.06401353],\n",
              "       [-0.33249131, -0.52473658,  0.53928003, ..., -0.56985914,\n",
              "         0.31626152, -0.20881932]])"
            ]
          },
          "execution_count": 119,
          "metadata": {},
          "output_type": "execute_result"
        }
      ],
      "source": [
        "# Geremos um conjunto de dados qualquer\n",
        "X = np.random.randn(300,15)\n",
        "X"
      ]
    },
    {
      "cell_type": "code",
      "execution_count": null,
      "metadata": {
        "id": "KVe7LEW0E6hn"
      },
      "outputs": [],
      "source": [
        "# identificamos os requisitos com nossa com nossa função \"locate_outliers\"\n",
        "is_outlier, outliers_count, outliers = locate_outliers(X)"
      ]
    },
    {
      "cell_type": "code",
      "execution_count": null,
      "metadata": {
        "id": "vuZ3n3K_E6hn",
        "outputId": "7e2860f1-4bf7-4a8a-a066-dff638e7a5f9"
      },
      "outputs": [
        {
          "data": {
            "text/plain": [
              "array([[False, False, False, ..., False, False, False],\n",
              "       [False, False, False, ..., False, False, False],\n",
              "       [False, False, False, ..., False, False, False],\n",
              "       ...,\n",
              "       [False, False, False, ..., False, False, False],\n",
              "       [False, False, False, ..., False, False, False],\n",
              "       [False, False, False, ..., False, False, False]])"
            ]
          },
          "metadata": {},
          "output_type": "display_data"
        }
      ],
      "source": [
        "is_outlier"
      ]
    },
    {
      "cell_type": "code",
      "execution_count": null,
      "metadata": {
        "id": "IzjWsBrZE6ho",
        "outputId": "8bf5b80b-16e4-4c65-eead-2a46b67a3954"
      },
      "outputs": [
        {
          "data": {
            "text/plain": [
              "44"
            ]
          },
          "metadata": {},
          "output_type": "display_data"
        }
      ],
      "source": [
        "outliers_count"
      ]
    },
    {
      "cell_type": "code",
      "execution_count": null,
      "metadata": {
        "id": "PbO7R7P2E6hp",
        "outputId": "161089f3-1f11-46a0-ba52-3a328ad17710"
      },
      "outputs": [
        {
          "data": {
            "text/plain": [
              "array([-2.67240384,  3.00270904,  3.62317101,  3.18867865,  2.55581522,\n",
              "       -2.82091429,  2.8757892 ,  2.70666036,  3.19514999, -3.40550318,\n",
              "       -3.39825827,  2.6727295 ,  2.54498296, -2.69447104,  3.19521603,\n",
              "        2.66372172, -2.77444948,  2.77421152,  2.69992869, -2.84831109,\n",
              "       -2.83695779, -2.45908227,  3.07802106,  2.89314015, -2.68574682,\n",
              "       -2.85019494,  2.43399574,  2.44291266, -2.92595937, -2.95911074,\n",
              "       -3.03966003,  2.77543068, -2.67368414, -2.79965402, -3.0501958 ,\n",
              "       -2.5437387 ,  3.08550649, -3.17666255, -3.05795476, -3.09826467,\n",
              "        3.1399469 ,  3.18141942,  2.90564257, -2.89505054])"
            ]
          },
          "metadata": {},
          "output_type": "display_data"
        }
      ],
      "source": [
        "outliers"
      ]
    },
    {
      "cell_type": "code",
      "execution_count": 255,
      "metadata": {
        "id": "AdTkst5UE6hq"
      },
      "outputs": [
        {
          "data": {
            "text/plain": [
              "(array([[False, False, False, ..., False, False, False],\n",
              "        [False, False, False, ..., False, False, False],\n",
              "        [False, False, False, ..., False, False, False],\n",
              "        ...,\n",
              "        [False, False, False, ..., False, False, False],\n",
              "        [False, False, False, ..., False, False, False],\n",
              "        [False, False, False, ..., False, False, False]]),\n",
              " 693,\n",
              " [-2.709801940092957,\n",
              "  2.840279098082857,\n",
              "  -3.274154502264042,\n",
              "  3.286642066083947,\n",
              "  -3.0007125044396443,\n",
              "  2.67294794912082,\n",
              "  2.7787950572316342,\n",
              "  2.5773880966233937,\n",
              "  2.5690792605312684,\n",
              "  2.595098389982278,\n",
              "  3.590715780797554,\n",
              "  3.2435761833719874,\n",
              "  3.649215650130772,\n",
              "  -3.290741151973439,\n",
              "  3.1310875433330185,\n",
              "  3.3731412217701164,\n",
              "  3.3293739583186883,\n",
              "  3.2981578181653104,\n",
              "  -2.839083762074318,\n",
              "  2.73736731849187,\n",
              "  2.699410609864134,\n",
              "  2.743709141682415,\n",
              "  -3.1242134160046917,\n",
              "  -2.9348676288256246,\n",
              "  2.860755401849888,\n",
              "  2.874813464023245,\n",
              "  -3.620962043298789,\n",
              "  3.0708921140846637,\n",
              "  -2.8229241669829954,\n",
              "  -3.2062599478057217,\n",
              "  2.972354032183346,\n",
              "  2.7846391912173822,\n",
              "  -2.6709893291394637,\n",
              "  2.8842522605473557,\n",
              "  3.2720537180648552,\n",
              "  2.887265257208933,\n",
              "  3.202051541313732,\n",
              "  2.7393008712172495,\n",
              "  2.9819292616577853,\n",
              "  2.519893909499587,\n",
              "  2.944728443540486,\n",
              "  -3.163715943314835,\n",
              "  -2.7212233300253215,\n",
              "  2.7335392243494394,\n",
              "  2.6733096654644566,\n",
              "  2.888018920148534,\n",
              "  2.919169408633485,\n",
              "  -2.787650624109898,\n",
              "  2.849010122980901,\n",
              "  2.75016624166822,\n",
              "  -2.6994867162398872,\n",
              "  -2.5779728951222465,\n",
              "  -2.578158478900205,\n",
              "  2.4156536005024805,\n",
              "  2.5277988084597305,\n",
              "  2.4180683082528227,\n",
              "  3.3754184053589804,\n",
              "  -3.053199705671595,\n",
              "  -3.447776485031244,\n",
              "  -2.6888842498087637,\n",
              "  2.6879776691090176,\n",
              "  2.9286230376922027,\n",
              "  2.717794958726066,\n",
              "  3.137522887963138,\n",
              "  -2.673713768278815,\n",
              "  2.8288741474228027,\n",
              "  -3.161239030599528,\n",
              "  -3.28733532664552,\n",
              "  2.7331980178849324,\n",
              "  -3.2010834060730975,\n",
              "  2.6714654627553,\n",
              "  2.814273388583011,\n",
              "  2.6680619756241577,\n",
              "  2.520520178492836,\n",
              "  -2.8001184225057107,\n",
              "  3.0363238594905826,\n",
              "  -2.702260808711535,\n",
              "  2.542107181825943,\n",
              "  3.7081026583585053,\n",
              "  -3.086351495879758,\n",
              "  3.1657436619107004,\n",
              "  -2.708391846838504,\n",
              "  3.1047009846445577,\n",
              "  -2.916944368024751,\n",
              "  -2.4763712298158214,\n",
              "  2.6299608228296747,\n",
              "  -2.6443673786269946,\n",
              "  -2.8073441883419474,\n",
              "  2.6422641673812923,\n",
              "  -3.666261357467521,\n",
              "  -2.420193857964469,\n",
              "  -2.9268319308263098,\n",
              "  -2.945893439434262,\n",
              "  2.700057270190473,\n",
              "  3.294319034956901,\n",
              "  3.0341883937400658,\n",
              "  -3.367282411185865,\n",
              "  3.0877145857293855,\n",
              "  -3.182528240371123,\n",
              "  -2.862319360265871,\n",
              "  -2.6539993416847767,\n",
              "  2.892719468764834,\n",
              "  -2.688113593650592,\n",
              "  -2.690595812558006,\n",
              "  2.904433999695897,\n",
              "  -2.7014618967832056,\n",
              "  2.857150716081751,\n",
              "  -2.4461149829852835,\n",
              "  2.6279268492633254,\n",
              "  -2.511951111663577,\n",
              "  -2.6572105039430283,\n",
              "  -2.4566755278477217,\n",
              "  3.5907409981758946,\n",
              "  -2.7119773882879317,\n",
              "  -2.73628155590567,\n",
              "  2.874023079396414,\n",
              "  2.8131561046371143,\n",
              "  -2.9464943367701633,\n",
              "  -2.8643333478180155,\n",
              "  3.1787723024280785,\n",
              "  -2.7962941463356152,\n",
              "  -2.790074902730003,\n",
              "  -2.5855386180268294,\n",
              "  -2.6712899201098685,\n",
              "  2.9014873593380943,\n",
              "  2.9323109302315973,\n",
              "  -2.7943755555755536,\n",
              "  -3.305708860052204,\n",
              "  -2.931660507988202,\n",
              "  -2.875510466971174,\n",
              "  2.993587040719131,\n",
              "  2.815144417279259,\n",
              "  -2.31965592515418,\n",
              "  -3.4095406611428842,\n",
              "  -2.624473925360082,\n",
              "  -2.644922480737186,\n",
              "  -2.964920295042242,\n",
              "  -3.0171844154700986,\n",
              "  2.283276390297919,\n",
              "  -3.454402231362566,\n",
              "  3.765282828267311,\n",
              "  3.0363950115349074,\n",
              "  -2.775404122847703,\n",
              "  3.164806774515715,\n",
              "  -3.529453271012267,\n",
              "  -3.3966831929905785,\n",
              "  -2.886959387356163,\n",
              "  -2.9056944812023047,\n",
              "  2.8091690838145875,\n",
              "  -3.1560041404111376,\n",
              "  -3.4105232485017534,\n",
              "  2.7941497189991833,\n",
              "  -2.5018925728595875,\n",
              "  -2.4987094954373026,\n",
              "  2.62944262983843,\n",
              "  2.923919839005194,\n",
              "  -3.0483715860605365,\n",
              "  -2.6623716967413387,\n",
              "  2.565672486364324,\n",
              "  3.0376586411980107,\n",
              "  -2.7542104443705724,\n",
              "  3.3102077395079186,\n",
              "  2.7185723863867213,\n",
              "  -2.8400528670982084,\n",
              "  3.678261372492524,\n",
              "  -2.8867208973970393,\n",
              "  -2.9258350259508505,\n",
              "  2.9881336401703202,\n",
              "  2.7145461636012356,\n",
              "  -2.7033412669826156,\n",
              "  2.8529470930845435,\n",
              "  -3.038791172842225,\n",
              "  -2.9018019186270108,\n",
              "  2.783089543435294,\n",
              "  -2.847502246943692,\n",
              "  -3.2058161056694052,\n",
              "  2.6108787976243186,\n",
              "  2.891845039668011,\n",
              "  2.9389616096149362,\n",
              "  3.1528172268019667,\n",
              "  2.809571547793699,\n",
              "  2.904383650885603,\n",
              "  -3.210391826175367,\n",
              "  -2.9052679977115576,\n",
              "  -2.6603605001100608,\n",
              "  -2.497192928515875,\n",
              "  -2.420991728903409,\n",
              "  -2.5143347714066206,\n",
              "  2.4381969497731215,\n",
              "  3.09961000687615,\n",
              "  2.8679846965377536,\n",
              "  2.9234293406169027,\n",
              "  2.6682921688176866,\n",
              "  2.804028504155353,\n",
              "  -2.9177496176076123,\n",
              "  -3.5795956990734807,\n",
              "  2.7472458678209635,\n",
              "  -2.6471568153224245,\n",
              "  2.520995504527095,\n",
              "  2.608910085616303,\n",
              "  2.6958080175828836,\n",
              "  -3.509741786656684,\n",
              "  3.3598429232007074,\n",
              "  -3.241319462785695,\n",
              "  -3.5048435843429573,\n",
              "  -2.705532797836106,\n",
              "  2.4395262809338525,\n",
              "  -2.5849263097106765,\n",
              "  -2.8759594220463773,\n",
              "  2.43494936027567,\n",
              "  2.8295587527222574,\n",
              "  2.9628873004954697,\n",
              "  2.5701866106532187,\n",
              "  2.920970223913798,\n",
              "  -2.747174544166396,\n",
              "  -2.623546153057322,\n",
              "  2.517886961845937,\n",
              "  2.6013928457538404,\n",
              "  2.781849498132792,\n",
              "  3.075173708705165,\n",
              "  -2.7685200061931123,\n",
              "  2.670602713382768,\n",
              "  -3.5387003663904353,\n",
              "  -3.1337832405440618,\n",
              "  -2.735615716642559,\n",
              "  -3.0945178047997097,\n",
              "  2.7308900484619008,\n",
              "  -2.8355437551949207,\n",
              "  2.8612142963343734,\n",
              "  3.116714698322882,\n",
              "  -3.010978589216824,\n",
              "  -2.720965999315264,\n",
              "  2.6648975093843146,\n",
              "  2.99007753582545,\n",
              "  3.422440071112814,\n",
              "  2.721621853446107,\n",
              "  -2.653985788215952,\n",
              "  2.297562710254492,\n",
              "  3.0459476255913898,\n",
              "  2.335385712584485,\n",
              "  2.796681419438465,\n",
              "  3.5756225732112963,\n",
              "  2.2751249437765897,\n",
              "  3.1162314931846256,\n",
              "  2.5394724888113775,\n",
              "  -2.572871688218014,\n",
              "  2.282815843286888,\n",
              "  -2.356529131006856,\n",
              "  2.8059492837808637,\n",
              "  2.552238180450138,\n",
              "  -2.8809969819427605,\n",
              "  2.248622280376193,\n",
              "  -2.8997523314716327,\n",
              "  2.7042021197093016,\n",
              "  -2.3395139496976154,\n",
              "  2.3962559417571883,\n",
              "  2.16099129764213,\n",
              "  -2.3622731233878325,\n",
              "  2.935258418242732,\n",
              "  2.8365618876681227,\n",
              "  2.8204801363659673,\n",
              "  2.8370018056503894,\n",
              "  -2.6273234590579038,\n",
              "  -2.72843637065827,\n",
              "  -3.436658876120166,\n",
              "  2.5762523569570983,\n",
              "  2.90950837226459,\n",
              "  3.197358573697531,\n",
              "  2.8934095911205544,\n",
              "  -2.904609146955166,\n",
              "  3.232103210907425,\n",
              "  -2.9521184170419725,\n",
              "  -3.0839353458550756,\n",
              "  -2.8650267654613346,\n",
              "  -3.8764766219539384,\n",
              "  -3.1867868627942015,\n",
              "  -2.731658525236885,\n",
              "  2.9304435231879613,\n",
              "  2.575462682733648,\n",
              "  2.553180985619565,\n",
              "  -3.3561039953653293,\n",
              "  2.990789053692699,\n",
              "  -3.1024581014174446,\n",
              "  2.6390987231396723,\n",
              "  -3.0532983695517277,\n",
              "  -2.8585722684809656,\n",
              "  -2.7378305081898584,\n",
              "  -2.641781410374616,\n",
              "  -3.051560056224896,\n",
              "  -3.2779835018208874,\n",
              "  2.7964456538099633,\n",
              "  3.837128231635972,\n",
              "  -3.147886088652015,\n",
              "  -2.5941810450117258,\n",
              "  2.692456954821264,\n",
              "  2.7224823410179426,\n",
              "  2.6471916363116406,\n",
              "  2.876228921979452,\n",
              "  -2.6739159778662493,\n",
              "  -3.994772900580116,\n",
              "  2.6329357077635276,\n",
              "  2.4991837810088398,\n",
              "  -2.778857761750077,\n",
              "  -2.872309583584876,\n",
              "  -2.5919312974461337,\n",
              "  -2.908960361690395,\n",
              "  -3.106356504837629,\n",
              "  -3.0565821340159225,\n",
              "  -2.6881816081257437,\n",
              "  2.7657041312320394,\n",
              "  3.25328156325442,\n",
              "  3.600301456196385,\n",
              "  -3.8417966921430304,\n",
              "  4.172658015351295,\n",
              "  -2.7351599759806904,\n",
              "  -2.9207915270843294,\n",
              "  2.5466514008758,\n",
              "  3.2215427540622383,\n",
              "  -2.724631419855968,\n",
              "  -2.8093546601666413,\n",
              "  2.7437108532898162,\n",
              "  -3.2576858221807656,\n",
              "  -2.9347786451447195,\n",
              "  -3.2802787520357377,\n",
              "  -3.1993429492797354,\n",
              "  3.2310957430548224,\n",
              "  -2.6654207574227695,\n",
              "  3.018731173857828,\n",
              "  -2.8566187520247044,\n",
              "  -2.8227416370594276,\n",
              "  -3.4556679099041387,\n",
              "  2.7025354731752147,\n",
              "  -2.9851731608865917,\n",
              "  -2.9578419096804027,\n",
              "  -2.6768461038668767,\n",
              "  -3.144612560690459,\n",
              "  2.504254977760087,\n",
              "  2.87990644791506,\n",
              "  2.5130321850210704,\n",
              "  2.3776561346821437,\n",
              "  -2.9432167931403694,\n",
              "  -2.696247682295239,\n",
              "  3.2427140900516975,\n",
              "  3.0399970945394044,\n",
              "  3.152700773719132,\n",
              "  2.8773843232950402,\n",
              "  -2.9919731784230548,\n",
              "  -3.566308871159804,\n",
              "  -3.094006528522432,\n",
              "  3.008469318521286,\n",
              "  -3.5793865091237276,\n",
              "  3.4933567968587336,\n",
              "  -2.6944620418327827,\n",
              "  3.0242496052269527,\n",
              "  -2.8080193350576876,\n",
              "  -3.8221492360528577,\n",
              "  2.722317982100944,\n",
              "  2.719132142366924,\n",
              "  -3.215050960035728,\n",
              "  2.697622090981616,\n",
              "  2.825685803127477,\n",
              "  2.847483792170736,\n",
              "  2.6748138571719084,\n",
              "  3.0260008326565258,\n",
              "  3.772618831874573,\n",
              "  -3.007345622049773,\n",
              "  -3.4415125194583345,\n",
              "  3.106941526347924,\n",
              "  -2.8797947615772115,\n",
              "  -2.841368348839194,\n",
              "  -2.688383096721703,\n",
              "  -2.835258044161542,\n",
              "  -2.7560553465065256,\n",
              "  -2.618952682015336,\n",
              "  2.6104182826561377,\n",
              "  -3.930837837776281,\n",
              "  -2.8701598012740464,\n",
              "  -2.6368421700117715,\n",
              "  -2.8909824539240296,\n",
              "  3.6753955108558407,\n",
              "  -3.1438174682720357,\n",
              "  -2.878682973746977,\n",
              "  3.52785879883885,\n",
              "  2.450669910697521,\n",
              "  -2.875033207468665,\n",
              "  -2.717748949440156,\n",
              "  -2.6551948691251934,\n",
              "  3.117059214892372,\n",
              "  2.7135650513321763,\n",
              "  3.097409887909739,\n",
              "  2.9337425927791907,\n",
              "  -2.984735735351587,\n",
              "  -3.0343929065087476,\n",
              "  2.933510425860971,\n",
              "  -3.4086983275654026,\n",
              "  2.9895765632825504,\n",
              "  -2.989727383997017,\n",
              "  3.6856874242480338,\n",
              "  2.4972046168510693,\n",
              "  2.758384323446983,\n",
              "  3.0965116970202713,\n",
              "  -2.660846502648646,\n",
              "  2.5195758818372482,\n",
              "  3.0142017839771995,\n",
              "  2.7577501396372233,\n",
              "  2.5946871350681584,\n",
              "  -3.1552348236405856,\n",
              "  -3.1311990852637948,\n",
              "  -2.849833793518351,\n",
              "  -2.7476183908746408,\n",
              "  -4.113278649947178,\n",
              "  -3.1601343411535834,\n",
              "  -2.711148512511542,\n",
              "  -3.195990674215377,\n",
              "  -3.161951592380101,\n",
              "  2.6953344313664824,\n",
              "  2.679828442110352,\n",
              "  -2.959615547047111,\n",
              "  -3.1078833611019223,\n",
              "  2.5800211405632925,\n",
              "  2.5610913470099765,\n",
              "  2.679622297915461,\n",
              "  -2.5345511987926974,\n",
              "  2.539850386396614,\n",
              "  2.5645719452315134,\n",
              "  2.443261222873888,\n",
              "  2.9212007636323944,\n",
              "  2.6852879805293726,\n",
              "  2.670444035858319,\n",
              "  2.43618772360696,\n",
              "  -2.6417843381328203,\n",
              "  2.8687375700666164,\n",
              "  2.9931118842465536,\n",
              "  3.1485787602103104,\n",
              "  -2.8699234808525906,\n",
              "  3.301916650427602,\n",
              "  2.72983049590469,\n",
              "  2.564604916614329,\n",
              "  2.861960948273659,\n",
              "  -3.1056380464756868,\n",
              "  2.55328706069368,\n",
              "  -2.7119143418798735,\n",
              "  -2.814070320301115,\n",
              "  -2.723345712751848,\n",
              "  -2.508280363748999,\n",
              "  -2.8145874064472713,\n",
              "  2.8123486999308485,\n",
              "  2.6257616453780623,\n",
              "  -3.2742388608888247,\n",
              "  -2.808026424885996,\n",
              "  2.644036801380242,\n",
              "  2.717881433818655,\n",
              "  2.59445732409404,\n",
              "  -2.5181601939541074,\n",
              "  -3.346635269947195,\n",
              "  2.9715499782341914,\n",
              "  -2.855447734992188,\n",
              "  2.7504188240024527,\n",
              "  -3.397911410718786,\n",
              "  3.021937740102055,\n",
              "  -2.7597247495423525,\n",
              "  -2.6878417238559202,\n",
              "  -2.3392071556642926,\n",
              "  3.0893934348500127,\n",
              "  -3.0548075081159465,\n",
              "  -2.3982456361225677,\n",
              "  2.676520514540818,\n",
              "  -2.7703527095595404,\n",
              "  2.8054450568993787,\n",
              "  -2.872000233449565,\n",
              "  -2.78944402154943,\n",
              "  2.497263926268683,\n",
              "  -2.961294267250911,\n",
              "  -2.8495071647075334,\n",
              "  -2.836286921156009,\n",
              "  -3.254724625418523,\n",
              "  -2.7864544726099614,\n",
              "  -2.864810746063694,\n",
              "  2.7442347400928333,\n",
              "  2.8937381681134444,\n",
              "  2.8504177819607412,\n",
              "  -2.613097920132464,\n",
              "  2.7759593563933156,\n",
              "  -2.625758699915243,\n",
              "  3.271691110837901,\n",
              "  -3.0395216177075204,\n",
              "  -2.728503041344038,\n",
              "  3.147002450719032,\n",
              "  -3.084097379537024,\n",
              "  -3.4269446830715777,\n",
              "  2.7596800777432957,\n",
              "  -3.065406846688144,\n",
              "  3.181024120628358,\n",
              "  -3.361235066545733,\n",
              "  2.7905057708181022,\n",
              "  3.0517010597890915,\n",
              "  2.616845347288567,\n",
              "  2.7774520431582754,\n",
              "  -3.0907816498765177,\n",
              "  -3.0265897337873557,\n",
              "  -2.830734501535049,\n",
              "  2.6621160037653,\n",
              "  -3.38190813924404,\n",
              "  3.0187500839273467,\n",
              "  2.813978043374038,\n",
              "  3.0760423538179427,\n",
              "  2.726822319385355,\n",
              "  -3.676707922654189,\n",
              "  2.7817711185190794,\n",
              "  -2.7914438196949396,\n",
              "  -3.8652654167584926,\n",
              "  3.0794804462329326,\n",
              "  3.003237628110915,\n",
              "  2.5285293371828055,\n",
              "  2.56741464644296,\n",
              "  2.6306904432761407,\n",
              "  2.827381122926604,\n",
              "  3.5181873639277708,\n",
              "  3.1381500564054847,\n",
              "  2.7072249092621408,\n",
              "  2.996039387829211,\n",
              "  -2.904907460205324,\n",
              "  3.852556233479065,\n",
              "  3.052263229205602,\n",
              "  -2.7258901003425677,\n",
              "  -3.006238945254972,\n",
              "  -3.168297208848418,\n",
              "  2.8053051204215937,\n",
              "  2.69974951567725,\n",
              "  2.547768870625278,\n",
              "  -2.7169570687802147,\n",
              "  3.0638663829404584,\n",
              "  -3.7357694977340863,\n",
              "  3.0991006204346436,\n",
              "  -2.8815268801103144,\n",
              "  -2.9687773095503687,\n",
              "  2.5053506292996,\n",
              "  2.7801650193678076,\n",
              "  -2.5670089922597965,\n",
              "  -2.5499697938645385,\n",
              "  -3.0505655902014692,\n",
              "  3.6860401979775874,\n",
              "  2.9664844229554075,\n",
              "  2.7753760924079747,\n",
              "  -3.3835110749822968,\n",
              "  -3.0523977070298765,\n",
              "  3.012527263307647,\n",
              "  -2.807099460900407,\n",
              "  2.7894743420738513,\n",
              "  2.2422607431827504,\n",
              "  -2.7276867518277284,\n",
              "  3.042128355749019,\n",
              "  -2.656179867904657,\n",
              "  -2.801926679876792,\n",
              "  -3.4176629821527595,\n",
              "  -2.760206455519441,\n",
              "  -3.061087295999023,\n",
              "  2.4799797842824667,\n",
              "  2.9524341725505465,\n",
              "  2.464519672589322,\n",
              "  -3.171933526780998,\n",
              "  2.538492411508645,\n",
              "  2.4529312721517447,\n",
              "  -2.454146595785579,\n",
              "  2.478261111028406,\n",
              "  2.5728419131460276,\n",
              "  -2.7250117007938273,\n",
              "  -2.462605972963614,\n",
              "  -2.553096624366687,\n",
              "  -3.0757488634464756,\n",
              "  -3.5129459538850725,\n",
              "  -2.7912592692013884,\n",
              "  -3.160995930734656,\n",
              "  3.029721960620528,\n",
              "  -2.991308161057647,\n",
              "  -2.5609887908378024,\n",
              "  2.9886434245074334,\n",
              "  2.8059264080955164,\n",
              "  3.0236609808270525,\n",
              "  -3.6425404967045956,\n",
              "  2.8465884319561425,\n",
              "  3.548470396936566,\n",
              "  2.963903655650698,\n",
              "  -3.8993675242528103,\n",
              "  3.475881513500113,\n",
              "  3.043728571317205,\n",
              "  3.207332809804116,\n",
              "  -2.7197234048393133,\n",
              "  3.1178419512100937,\n",
              "  -2.64877565955928,\n",
              "  -2.888039275446179,\n",
              "  2.440989268619632,\n",
              "  2.4698548515955663,\n",
              "  -2.293864253557664,\n",
              "  3.167870898814946,\n",
              "  -2.8727913730487957,\n",
              "  3.865300507083809,\n",
              "  -3.001163914660903,\n",
              "  3.0310242298797005,\n",
              "  2.7397007961519404,\n",
              "  4.981810644054825,\n",
              "  3.183410443377477,\n",
              "  -2.9943571599758365,\n",
              "  -2.7166797473871958,\n",
              "  -2.725996443250265,\n",
              "  2.5131369308348677,\n",
              "  2.546312778201889,\n",
              "  2.375012873664195,\n",
              "  2.5928447729629154,\n",
              "  -2.6066707436986998,\n",
              "  -2.61806895044005,\n",
              "  -3.3973000628423606,\n",
              "  -3.003122281978804,\n",
              "  3.22258335436935,\n",
              "  2.920097325090037,\n",
              "  -3.011648187190039,\n",
              "  3.3276780757620243,\n",
              "  3.123740869173955,\n",
              "  -3.1550080036857353,\n",
              "  2.9828570405351083,\n",
              "  -3.08881654747782,\n",
              "  -2.9990959705191917,\n",
              "  -2.9693537690136815,\n",
              "  2.8363936106481953,\n",
              "  3.2222819691409503,\n",
              "  -3.2497503207035567,\n",
              "  -3.5176827503334636,\n",
              "  -2.796342108798212,\n",
              "  -2.9083382296428577,\n",
              "  3.050929034965065,\n",
              "  -3.421352950012279,\n",
              "  3.4307821198158486,\n",
              "  3.059211864284673,\n",
              "  3.0261188448723213,\n",
              "  -3.436937929107311,\n",
              "  2.9427582666313814,\n",
              "  -3.165628136834268,\n",
              "  3.318973059518726,\n",
              "  3.0525466747962895,\n",
              "  -3.039618311716267,\n",
              "  -3.1395125692516452,\n",
              "  -2.6560474145388873,\n",
              "  -2.6549140683416295,\n",
              "  2.9403530308207695,\n",
              "  -2.763481324095035,\n",
              "  -2.9827616649649946,\n",
              "  2.767851932362035,\n",
              "  2.6333213799987543,\n",
              "  -2.6135638994182546,\n",
              "  -2.688928661734342,\n",
              "  -2.63088454669227,\n",
              "  -4.00291054520663,\n",
              "  3.128865493974254,\n",
              "  3.1357036367328144,\n",
              "  -2.9405267312661345,\n",
              "  -3.2750190508820163,\n",
              "  2.8451820966262753,\n",
              "  -2.506757120478658,\n",
              "  -2.665858624743402,\n",
              "  -2.583858048768375,\n",
              "  -2.3321822423426304,\n",
              "  -2.404354620122187,\n",
              "  2.4528831841354033,\n",
              "  2.939568618633857,\n",
              "  3.1231192342416083,\n",
              "  2.4510982189257033,\n",
              "  3.43183468893072,\n",
              "  2.739885763527544,\n",
              "  -2.6822250475706406,\n",
              "  2.4131085337575526,\n",
              "  2.5371170214894083,\n",
              "  2.6079868970287476,\n",
              "  -2.30885950558361,\n",
              "  2.696498471727342,\n",
              "  -2.754845300881526,\n",
              "  2.6106300234438256,\n",
              "  3.08656100027413,\n",
              "  3.250837591468969,\n",
              "  -2.9227189181272197,\n",
              "  -2.8776588276768473,\n",
              "  3.201348111461967,\n",
              "  -2.60723792653683,\n",
              "  -2.6100715647201604,\n",
              "  -2.4743163910867225,\n",
              "  2.9498570381322966,\n",
              "  2.8127968519449094,\n",
              "  -2.7215537280356745,\n",
              "  2.674310893137785,\n",
              "  -2.9893837554947535,\n",
              "  3.2092544864450323,\n",
              "  2.846196459523281,\n",
              "  -2.7334300141139076,\n",
              "  -2.818368481305866])"
            ]
          },
          "execution_count": 255,
          "metadata": {},
          "output_type": "execute_result"
        }
      ],
      "source": [
        "# Solução\n",
        "\n",
        "\n",
        "import numpy as np\n",
        "def outlier(Matriz):\n",
        "    matriz_bool = np.zeros((Matriz.shape[0], Matriz.shape[1]), dtype=bool)\n",
        "    outlier = []\n",
        "    for i in range(Matriz.shape[1]):\n",
        "        coluna = Matriz[:,i]\n",
        "        Q1 = np.quantile(coluna, 0.25)\n",
        "        Q3 = np.quantile(coluna, 0.75)\n",
        "        IQR = Q3 - Q1\n",
        "        superior = Q1 - 1.5 * IQR\n",
        "        inferior = Q3 + 1.5 * IQR\n",
        "        outlier_coluna = np.logical_or(coluna < superior, coluna > inferior)\n",
        "        matriz_bool[:,i] = outlier_coluna\n",
        "        outlier.extend(coluna[outlier_coluna])\n",
        "    return matriz_bool, len(outlier), outlier\n",
        "\n",
        "outlier(np.random.randn(300,300))\n"
      ]
    },
    {
      "cell_type": "markdown",
      "metadata": {
        "id": "upNDn96PE6hq"
      },
      "source": [
        "## Questão 8\n",
        "\n",
        "Crie um vetor com valores que vão de 1 até 21 de dois em dois, a partir da função arange"
      ]
    },
    {
      "cell_type": "code",
      "execution_count": 257,
      "metadata": {
        "id": "w4d14JRZE6hr"
      },
      "outputs": [
        {
          "name": "stdout",
          "output_type": "stream",
          "text": [
            "[ 1  3  5  7  9 11 13 15 17 19 21]\n"
          ]
        }
      ],
      "source": [
        "vetor_2 = np.arange(1, 22, 2)\n",
        "print(vetor_2)"
      ]
    },
    {
      "cell_type": "markdown",
      "metadata": {
        "id": "SchEY1O7E6hr"
      },
      "source": [
        "## Questão 9\n",
        "\n",
        "Crie um array de 10 com valores aleatórios"
      ]
    },
    {
      "cell_type": "code",
      "execution_count": 269,
      "metadata": {
        "id": "MYpySePjE6hs"
      },
      "outputs": [
        {
          "name": "stdout",
          "output_type": "stream",
          "text": [
            "[66 30 25 30 40  9 44 78 35 92]\n"
          ]
        }
      ],
      "source": [
        "import numpy as np\n",
        "\n",
        "array = np.random.randint(1, 100, 10)\n",
        "print(array)\n"
      ]
    },
    {
      "cell_type": "markdown",
      "metadata": {
        "id": "EFfvM6LIAlfJ"
      },
      "source": [
        "## Questão 10\n",
        "\n",
        "Em estatística, a normalização de uma distribuição de dados pode ser feita subtraindo o valor médio da distribuição de cada valor do conjunto de dados, dividindo o resultado pelo desvio-padrão da distribuição. Escreva uma função que normalize os dados recebidos por um array numpy qualquer, conforme descrito anteriormente."
      ]
    },
    {
      "cell_type": "code",
      "execution_count": 270,
      "metadata": {
        "id": "yfho2bziAlfJ"
      },
      "outputs": [
        {
          "data": {
            "text/plain": [
              "array([ 0.86062252, -0.60773817, -0.81167716, -0.60773817, -0.19986021,\n",
              "       -1.46428191, -0.03670902,  1.35007608, -0.40379919,  1.92110524])"
            ]
          },
          "execution_count": 270,
          "metadata": {},
          "output_type": "execute_result"
        }
      ],
      "source": [
        "import numpy as np\n",
        "\n",
        "def normalizar(dados):\n",
        "    media = np.mean(dados)\n",
        "    desvio_padrao = np.std(dados)\n",
        "    dados_normalizados = (dados - media) / desvio_padrao\n",
        "    return dados_normalizados\n",
        "\n",
        "normalizar(array)"
      ]
    },
    {
      "cell_type": "markdown",
      "metadata": {
        "id": "p60_N7ZwAlfK"
      },
      "source": [
        "## Questão 11\n",
        "\n",
        "Escreva uma função em numpy que receba um array contendo notas de uma turma de 100 estudantes. Considere que a nota de aprovação da turma é 5.0. A função deve retornar, em um array numpy, nesta ordem:\n",
        "- a média e o desvio-padrão das notas da turma;\n",
        "- o número de notas maiores que 7.0;\n",
        "- o número de reprovações da turma;\n",
        "- a menor nota da turma;\n",
        "- a maior nota da turma."
      ]
    },
    {
      "cell_type": "code",
      "execution_count": 316,
      "metadata": {
        "id": "Q3wkBCFtAlfK"
      },
      "outputs": [
        {
          "data": {
            "text/plain": [
              "array([ 4.78     ,  3.2267011, 29.       , 49.       , 10.       ,\n",
              "        0.       ])"
            ]
          },
          "execution_count": 316,
          "metadata": {},
          "output_type": "execute_result"
        }
      ],
      "source": [
        "import numpy as np\n",
        "\n",
        "array = np.random.randint(0, 11, 100)\n",
        "\n",
        "\n",
        "def notas_turma(x):\n",
        "    media = np.mean(x)\n",
        "    desvio_padrao = np.std(x)\n",
        "    notas_altas, reprovado = 0, 0\n",
        "    for i in range(len(x)):\n",
        "        if x[i] > 7:\n",
        "            notas_altas += 1\n",
        "        elif x[i] < 5:\n",
        "            reprovado += 1\n",
        "    maior_nota = max(x)\n",
        "    menor_nota = min(x)\n",
        "    resultado = np.array([media, desvio_padrao, notas_altas, reprovado, maior_nota, menor_nota])\n",
        "    return resultado\n",
        "\n",
        "notas_turma(array)"
      ]
    }
  ],
  "metadata": {
    "colab": {
      "include_colab_link": true,
      "provenance": []
    },
    "kernelspec": {
      "display_name": "Python 3",
      "language": "python",
      "name": "python3"
    },
    "language_info": {
      "codemirror_mode": {
        "name": "ipython",
        "version": 3
      },
      "file_extension": ".py",
      "mimetype": "text/x-python",
      "name": "python",
      "nbconvert_exporter": "python",
      "pygments_lexer": "ipython3",
      "version": "3.10.7"
    },
    "orig_nbformat": 4,
    "vscode": {
      "interpreter": {
        "hash": "9f8688d2bc69c748babb560adc9158621fb8aef49546882c3e4c6326402dd0cc"
      }
    }
  },
  "nbformat": 4,
  "nbformat_minor": 0
}
